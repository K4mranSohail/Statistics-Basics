{
  "nbformat": 4,
  "nbformat_minor": 0,
  "metadata": {
    "colab": {
      "provenance": []
    },
    "kernelspec": {
      "name": "python3",
      "display_name": "Python 3"
    },
    "language_info": {
      "name": "python"
    }
  },
  "cells": [
    {
      "cell_type": "markdown",
      "source": [
        "# Statistics Basics\n"
      ],
      "metadata": {
        "id": "x9pwSUwT44Dy"
      }
    },
    {
      "cell_type": "markdown",
      "source": [
        "Q1. What is statistics, and why is it important?\n",
        "\n",
        " - Statistics is the branch of mathematics that deals with the collection, analysis, interpretation, and presentation of data. It provides methods for making sense of data, identifying patterns, and making informed decisions based on numerical evidence.\n",
        " And it is important because it helps in making informed decisions, predicting trends, improving quality, managing risks, and deriving meaningful insights in various fields like business, healthcare, and research."
      ],
      "metadata": {
        "id": "dkibQgUk47Qc"
      }
    },
    {
      "cell_type": "markdown",
      "source": [
        "Q2. What are the two main types of statistics?\n",
        "\n",
        " - The two main types of statistics are:\n",
        "\n",
        "Descriptive Statistics – Summarizes and organizes data using measures like mean, median, mode, standard deviation, and visual representations like charts and graphs.\n",
        "\n",
        "Inferential Statistics – Draws conclusions and makes predictions about a population based on a sample using techniques like hypothesis testing, confidence intervals, and regression analysis."
      ],
      "metadata": {
        "id": "AqYK8NAe5WOl"
      }
    },
    {
      "cell_type": "markdown",
      "source": [
        "Q3. What are descriptive statistics?\n",
        "\n",
        " - Descriptive statistics are methods used to summarize and organize data, making it easier to understand and interpret. These statistics help in describing the main features of a dataset without drawing conclusions beyond the data itself."
      ],
      "metadata": {
        "id": "Iw-Sn3em5gIn"
      }
    },
    {
      "cell_type": "markdown",
      "source": [
        "Q4. What is inferential statistics?\n",
        "\n",
        " - Inferential statistics is a branch of statistics that allows us to make conclusions, predictions, or generalizations about a larger population based on a sample of data. It helps in decision-making and hypothesis testing by using probability theory and statistical models."
      ],
      "metadata": {
        "id": "0OI74lqG5nJe"
      }
    },
    {
      "cell_type": "markdown",
      "source": [
        "Q5. What is sampling in statistics?\n",
        "\n",
        " - Sampling in statistics is the process of selecting a subset of individuals or data points from a larger population to analyze and draw conclusions about the whole population. Since studying an entire population is often impractical, sampling allows for efficient and cost-effective data analysis."
      ],
      "metadata": {
        "id": "iAd8yUvd5vp0"
      }
    },
    {
      "cell_type": "markdown",
      "source": [
        "Q6. What are the different types of sampling methods?\n",
        "\n",
        " - There are two main types of sampling methods in statistics: probability sampling and non-probability sampling.\n",
        "\n",
        "1. Probability Sampling (Random Selection – Equal Chance)\n",
        "In this method, every member of the population has an equal chance of being selected, ensuring unbiased results.\n",
        "\n",
        "a) Simple Random Sampling\n",
        "Every individual has an equal chance of being chosen.\n",
        "Example: Randomly picking names from a hat.\n",
        "\n",
        "b) Stratified Sampling\n",
        "The population is divided into subgroups (strata) based on characteristics, and samples are taken proportionally.\n",
        "Example: Selecting students based on gender in a school survey.\n",
        "\n",
        "c) Systematic Sampling\n",
        "Every nth individual is selected from a population list.\n",
        "Example: Choosing every 10th customer from a store's visitor list.\n",
        "\n",
        "d) Cluster Sampling\n",
        "The population is divided into clusters (groups), and entire clusters are randomly selected.\n",
        "Example: Selecting random schools from a district and surveying all students in those schools.\n",
        "\n",
        "e) Multi-Stage Sampling\n",
        "A combination of two or more probability sampling techniques.\n",
        "Example: First selecting random cities, then random households within those cities.\n",
        "\n",
        "2. Non-Probability Sampling (Non-Random – Biased Selection)\n",
        "In this method, samples are selected based on convenience or judgment, making results less generalizable.\n",
        "\n",
        "a) Convenience Sampling\n",
        "Selecting participants based on ease of access.\n",
        "Example: Surveying people at a nearby mall.\n",
        "\n",
        "b) Judgmental (Purposive) Sampling\n",
        "The researcher selects samples based on expertise or specific criteria.\n",
        "Example: Choosing experts for a technical study.\n",
        "\n",
        "c) Quota Sampling\n",
        "Ensures specific subgroups are represented, but selection is not random.\n",
        "Example: Selecting an equal number of male and female respondents without random selection.\n",
        "\n",
        "d) Snowball Sampling\n",
        "Existing subjects recruit future subjects, useful for hard-to-reach populations.\n",
        "Example: Interviewing drug users who refer others for the study."
      ],
      "metadata": {
        "id": "BU2ekCg753Lz"
      }
    },
    {
      "cell_type": "markdown",
      "source": [
        "Q7. What is the difference between random and non-random sampling?\n",
        "\n",
        " - Random sampling is a method where every member of a population has an equal chance of being selected, ensuring unbiased and representative results. It includes techniques such as simple random sampling, stratified sampling, and cluster sampling, making it useful for scientific research and statistical analysis. In contrast, non-random sampling involves selecting individuals based on convenience, judgment, or other non-random criteria, which can introduce bias and limit the generalizability of the findings. Methods like convenience sampling, quota sampling, and snowball sampling fall under this category and are often used when time, cost, or accessibility constraints exist. While random sampling provides more reliable and objective results, non-random sampling is sometimes preferred for quick or targeted data collection."
      ],
      "metadata": {
        "id": "gB1kBdKV6QrJ"
      }
    },
    {
      "cell_type": "markdown",
      "source": [
        "Q8. Define and give examples of qualitative and quantitative data.\n",
        "\n",
        " - Qualitative and Quantitative Data\n",
        "1. Qualitative Data (Categorical Data)\n",
        "Definition: Qualitative data describes characteristics, qualities, or attributes that cannot be measured numerically. It is often represented in words, labels, or categories.\n",
        "\n",
        "Examples:\n",
        "\n",
        "Colors – Eye color (blue, brown, green)\n",
        "Gender – Male, Female, Other\n",
        "Customer Reviews – \"Excellent,\" \"Good,\" \"Poor\"\n",
        "Nationality – American, Indian, French\n",
        "Types of Cuisine – Italian, Chinese, Mexican\n",
        "2. Quantitative Data (Numerical Data)\n",
        "Definition: Quantitative data represents measurable quantities and is expressed in numbers. It can be further divided into discrete and continuous data.\n",
        "\n",
        "Examples:\n",
        "\n",
        "Age – 25, 30, 45 years\n",
        "Height – 5.7 ft, 6.2 ft\n",
        "Weight – 60 kg, 75 kg\n",
        "Exam Scores – 85, 90, 78\n",
        "Number of Employees – 50, 200, 1000"
      ],
      "metadata": {
        "id": "GcYTRUiU6neS"
      }
    },
    {
      "cell_type": "markdown",
      "source": [
        "Q9. What are the different types of data in statistics?\n",
        "\n",
        " - Types of Data in Statistics\n",
        "In statistics, data is categorized into two main types: Qualitative (Categorical) Data and Quantitative (Numerical) Data."
      ],
      "metadata": {
        "id": "gXCLz4ok61gu"
      }
    },
    {
      "cell_type": "markdown",
      "source": [
        "Q10. Explain nominal, ordinal, interval, and ratio levels of measurement.\n",
        "\n",
        " -\n",
        " 1. Nominal (Categorical, No Order)\n",
        "\n",
        "Labels or names without a specific order.\n",
        "\n",
        "Example: Eye color (Blue, Brown, Green), Gender (Male, Female).\n",
        "\n",
        "2. Ordinal (Categorical, Ordered)\n",
        "\n",
        "Categories with a meaningful order, but differences between them are not measurable.\n",
        "\n",
        "Example: Education Level (High School < Bachelor’s < Master’s), Satisfaction (Low, Medium, High).\n",
        "3. Interval (Numerical, No True Zero)\n",
        "\n",
        "Ordered values with meaningful differences, but no true zero point.\n",
        "\n",
        "Example: Temperature in Celsius (0°C doesn’t mean no temperature), IQ scores.\n",
        "4. Ratio (Numerical, True Zero)\n",
        "\n",
        "Ordered values with meaningful differences and a true zero point (zero means \"none\" of the quantity).\n",
        "\n",
        "Example: Height, Weight, Age, Income."
      ],
      "metadata": {
        "id": "oeZi4iaF6_0D"
      }
    },
    {
      "cell_type": "markdown",
      "source": [
        "Q11. What is the measure of central tendency?\n",
        "\n",
        " - The measure of central tendency is a statistical concept that identifies the center or typical value of a dataset. It helps summarize large datasets with a single representative value."
      ],
      "metadata": {
        "id": "njy0_6hy7pPm"
      }
    },
    {
      "cell_type": "markdown",
      "source": [
        "Q12.  Define mean, median, and mode.\n",
        "\n",
        " -\n",
        "1. Mean – The average of a dataset, calculated by dividing the sum of all values by the total number of values.\n",
        "2. Median – The middle value in an ordered dataset; if even, the average of the two middle values.\n",
        "3. Mode – The most frequently occurring value in a dataset."
      ],
      "metadata": {
        "id": "K90fq3Nv7wya"
      }
    },
    {
      "cell_type": "markdown",
      "source": [
        "Q13. What is the significance of the measure of central tendency?\n",
        "\n",
        " - The measure of central tendency is significant because it provides a single representative value that summarizes an entire dataset, making data interpretation easier. It helps in:\n",
        "\n",
        "Understanding Data Distribution – Identifies the center of the dataset.\n",
        "\n",
        "Comparing Datasets – Allows comparison between different groups.\n",
        "\n",
        "Decision Making – Used in business, research, and policy-making.\n",
        "\n",
        "Handling Outliers – Median is useful when data has extreme values.\n",
        "\n",
        "Predictive Analysis – Supports forecasting and trend identification."
      ],
      "metadata": {
        "id": "O-50TfQO8KEy"
      }
    },
    {
      "cell_type": "markdown",
      "source": [
        "Q14. What is variance, and how is it calculated?\n",
        "\n",
        " - Variance is a statistical measure that quantifies the spread or dispersion of a dataset. It indicates how much the data points deviate from the mean. A higher variance means the data is more spread out, while a lower variance indicates the data is closer to the mean.\n",
        "\n",
        " Steps to Calculate Variance:\n",
        "\n",
        "1.Find the mean of the dataset.\n",
        "\n",
        "2.Subtract the mean from each data point and square the result.\n",
        "\n",
        "3.Sum all squared differences.\n",
        "\n",
        "4.Divide by N for population variance or (n-1) for sample variance."
      ],
      "metadata": {
        "id": "Cpuqw2yu8Zpq"
      }
    },
    {
      "cell_type": "markdown",
      "source": [
        "Q15. What is standard deviation, and why is it important?\n",
        "\n",
        " - Standard deviation (SD) is a measure of the spread or dispersion of a dataset. It tells us how much the data points deviate from the mean. A low standard deviation means the data points are close to the mean, while a high standard deviation indicates more variability.\n",
        "\n",
        " Importance of Standard Deviation\n",
        "\n",
        "Measures Data Spread – Shows how dispersed values are around the mean.\n",
        "\n",
        "Identifies Consistency – A smaller SD means more consistent data.\n",
        "\n",
        "Detects Outliers – High SD indicates potential outliers.\n",
        "\n",
        "Compares Datasets – Helps in comparing variability between different datasets.\n",
        "\n",
        "Used in Probability & Finance – Essential in risk assessment and statistical modeling"
      ],
      "metadata": {
        "id": "OJixv2F381ru"
      }
    },
    {
      "cell_type": "markdown",
      "source": [
        "Q16. Define and explain the term range in statistics.\n",
        "\n",
        " - Definition:\n",
        "The range is the simplest measure of dispersion in statistics. It represents the difference between the highest and lowest values in a dataset.\n",
        "\n",
        "Explanation:\n",
        "\n",
        "The range provides a quick idea of data spread.\n",
        "\n",
        "It is sensitive to outliers, meaning extreme values can greatly affect it.\n",
        "\n",
        "It is useful for understanding variability, but does not show how data is distributed between the extremes."
      ],
      "metadata": {
        "id": "9vdum7B29KuJ"
      }
    },
    {
      "cell_type": "markdown",
      "source": [
        "Q17. What is the difference between variance and standard deviation?\n",
        "\n",
        " - Variance and standard deviation are both measures of data dispersion in statistics. Variance calculates the average squared deviation from the mean, providing a measure of how spread out data points are. However, because it is expressed in squared units, it can be difficult to interpret. Standard deviation, which is the square root of variance, brings the measure back to the original unit of data, making it more intuitive and useful for practical analysis. While both are sensitive to outliers, standard deviation is preferred for comparing datasets and understanding variability in real-world applications."
      ],
      "metadata": {
        "id": "kZrNYhdI9qZd"
      }
    },
    {
      "cell_type": "markdown",
      "source": [
        "Q18. What is skewness in a dataset?\n",
        "\n",
        " - Skewness is a statistical measure that describes the asymmetry of a dataset's distribution around its mean. It indicates whether data points are concentrated on one side of the distribution."
      ],
      "metadata": {
        "id": "EbW4uuS692z4"
      }
    },
    {
      "cell_type": "markdown",
      "source": [
        "Q19. What does it mean if a dataset is positively or negatively skewed?\n",
        "\n",
        " - Positively Skewed (Right-Skewed) Dataset\n",
        "\n",
        "The right tail is longer, meaning the majority of values are concentrated on the left.\n",
        "The mean is greater than the median.\n",
        "Example: Income distribution—most people earn low to moderate salaries, but a few earn significantly higher amounts, pulling the tail to the right.\n",
        "Negatively Skewed (Left-Skewed) Dataset\n",
        "\n",
        "The left tail is longer, meaning most values are concentrated on the right.\n",
        "The mean is less than the median.\n",
        "Example: Exam scores—most students score high, but a few very low scores pull the tail to the left."
      ],
      "metadata": {
        "id": "cf8F2MdEBXrn"
      }
    },
    {
      "cell_type": "markdown",
      "source": [
        "Q20. Define and explain kurtosis.\n",
        "\n",
        " - Kurtosis is a statistical measure that describes the tailedness or peakedness of a dataset’s distribution. It helps in understanding the presence of extreme values (outliers) in a dataset."
      ],
      "metadata": {
        "id": "jWsfzH2jDvJH"
      }
    },
    {
      "cell_type": "markdown",
      "source": [
        "Q21. What is the purpose of covariance?\n",
        "\n",
        " - Covariance is a statistical measure that indicates the direction of the relationship between two variables. It shows whether the variables increase or decrease together."
      ],
      "metadata": {
        "id": "OM8TlQjPEMlQ"
      }
    },
    {
      "cell_type": "markdown",
      "source": [
        "Q22.  What does correlation measure in statistics?\n",
        "\n",
        " - Correlation measures the strength and direction of the relationship between two variables. It tells us how one variable changes in relation to another."
      ],
      "metadata": {
        "id": "dftHkw57EcpV"
      }
    },
    {
      "cell_type": "markdown",
      "source": [
        "Q23. What is the difference between covariance and correlation?\n",
        "\n",
        " - Covariance and correlation both measure the relationship between two variables, but they differ in interpretation and scale. Covariance indicates the direction of the relationship—whether the variables move together (positive covariance) or in opposite directions (negative covariance). However, it does not provide a standardized measure, making comparisons difficult. Correlation, on the other hand, is a normalized version of covariance that not only shows the direction but also the strength of the relationship, ranging from -1 to +1. Unlike covariance, correlation is unit-free, making it easier to compare relationships across different datasets. While covariance is widely used in finance and economics, correlation is more useful in statistical analysis, regression, and data science."
      ],
      "metadata": {
        "id": "Xias5NNSEmHC"
      }
    },
    {
      "cell_type": "markdown",
      "source": [
        "Q24. What are some real-world applications of statistics?\n",
        "\n",
        " - Real-World Applications of Statistics\n",
        "\n",
        "Business & Marketing – Companies use statistics for market research, customer behavior analysis, sales forecasting, and pricing strategies.\n",
        "\n",
        "Healthcare & Medicine – Used in clinical trials, disease prediction, patient data analysis, and public health studies.\n",
        "\n",
        "Finance & Economics – Helps in risk assessment, stock market analysis, fraud detection, and economic forecasting.\n",
        "\n",
        "Education – Used in analyzing student performance, designing curricula, and evaluating teaching methods.\n",
        "\n",
        "Sports Analytics – Teams use statistics for player performance analysis, game strategies, and injury predictions.\n",
        "\n",
        "Social Sciences – Helps in survey analysis, population studies, and behavioral research.\n",
        "\n",
        "Government & Policy Making – Used in census data analysis, crime statistics, and resource allocation.\n",
        "\n",
        "Data Science & AI – Forms the foundation of machine learning, predictive modeling, and big data analytics."
      ],
      "metadata": {
        "id": "3LHXj-B5Ey4M"
      }
    },
    {
      "cell_type": "markdown",
      "source": [
        "# Practical"
      ],
      "metadata": {
        "id": "naiwI4NJFHsu"
      }
    },
    {
      "cell_type": "code",
      "source": [
        "# 1. How do you calculate the mean, median, and mode of a dataset.\n",
        "\n",
        "import statistics\n",
        "\n",
        "# Sample dataset\n",
        "data = [5, 10, 15, 20, 25, 10, 15, 15]\n",
        "\n",
        "# Calculate Mean\n",
        "mean_value = statistics.mean(data)\n",
        "\n",
        "# Calculate Median\n",
        "median_value = statistics.median(data)\n",
        "\n",
        "# Calculate Mode\n",
        "mode_value = statistics.mode(data)\n",
        "\n",
        "# Print results\n",
        "print(f\"Mean: {mean_value}\")\n",
        "print(f\"Median: {median_value}\")\n",
        "print(f\"Mode: {mode_value}\")\n"
      ],
      "metadata": {
        "colab": {
          "base_uri": "https://localhost:8080/"
        },
        "id": "ACpq0ncQFPd8",
        "outputId": "d84461e5-6022-4c0f-f1d9-0b275c614e0d"
      },
      "execution_count": 1,
      "outputs": [
        {
          "output_type": "stream",
          "name": "stdout",
          "text": [
            "Mean: 14.375\n",
            "Median: 15.0\n",
            "Mode: 15\n"
          ]
        }
      ]
    },
    {
      "cell_type": "code",
      "source": [
        "# 2. Write a Python program to compute the variance and standard deviation of a dataset.\n",
        "\n",
        "import statistics\n",
        "\n",
        "# Sample dataset\n",
        "data = [5, 10, 15, 20, 25, 10, 15, 15]\n",
        "\n",
        "# Compute variance (sample variance)\n",
        "variance_value = statistics.variance(data)\n",
        "\n",
        "# Compute standard deviation (sample standard deviation)\n",
        "std_dev_value = statistics.stdev(data)\n",
        "\n",
        "# Print results\n",
        "print(f\"Variance: {variance_value}\")\n",
        "print(f\"Standard Deviation: {std_dev_value}\")\n"
      ],
      "metadata": {
        "colab": {
          "base_uri": "https://localhost:8080/"
        },
        "id": "2TOS_QgyHSC5",
        "outputId": "6b12b601-d310-4ab6-f4ed-de73b9c06aae"
      },
      "execution_count": 2,
      "outputs": [
        {
          "output_type": "stream",
          "name": "stdout",
          "text": [
            "Variance: 38.839285714285715\n",
            "Standard Deviation: 6.232117273791125\n"
          ]
        }
      ]
    },
    {
      "cell_type": "code",
      "source": [
        "# 3. Create a dataset and classify it into nominal, ordinal, interval, and ratio types\n",
        "\n",
        "# Dataset with different data types\n",
        "dataset = {\n",
        "    \"Customer ID\": [\"A001\", \"A002\", \"A003\"],  # Nominal\n",
        "    \"Blood Type\": [\"A\", \"B\", \"AB\", \"O\"],  # Nominal\n",
        "    \"Education Level\": [\"High School\", \"Bachelor's\", \"Master's\", \"PhD\"],  # Ordinal\n",
        "    \"Satisfaction Rating\": [1, 2, 3, 4, 5],  # Ordinal\n",
        "    \"Temperature (°C)\": [10, 20, 30],  # Interval\n",
        "    \"Year of Birth\": [1990, 2000, 2010],  # Interval\n",
        "    \"Weight (kg)\": [50, 60, 75],  # Ratio\n",
        "    \"Income ($)\": [10000, 50000, 100000]  # Ratio\n",
        "}\n",
        "\n",
        "# Function to classify data type\n",
        "def classify_data(variable_name, values):\n",
        "    if isinstance(values[0], str):\n",
        "        return \"Nominal\"\n",
        "    elif variable_name in [\"Education Level\", \"Satisfaction Rating\"]:\n",
        "        return \"Ordinal\"\n",
        "    elif variable_name in [\"Temperature (°C)\", \"Year of Birth\"]:\n",
        "        return \"Interval\"\n",
        "    else:\n",
        "        return \"Ratio\"\n",
        "\n",
        "# Print classification\n",
        "print(\"Dataset Classification:\\n\")\n",
        "for variable, values in dataset.items():\n",
        "    print(f\"{variable}: {classify_data(variable, values)}\")\n"
      ],
      "metadata": {
        "colab": {
          "base_uri": "https://localhost:8080/"
        },
        "id": "yM92WNf2HnqS",
        "outputId": "b4bc71ce-082e-4030-d4b1-aba29745c27c"
      },
      "execution_count": 3,
      "outputs": [
        {
          "output_type": "stream",
          "name": "stdout",
          "text": [
            "Dataset Classification:\n",
            "\n",
            "Customer ID: Nominal\n",
            "Blood Type: Nominal\n",
            "Education Level: Nominal\n",
            "Satisfaction Rating: Ordinal\n",
            "Temperature (°C): Interval\n",
            "Year of Birth: Interval\n",
            "Weight (kg): Ratio\n",
            "Income ($): Ratio\n"
          ]
        }
      ]
    },
    {
      "cell_type": "code",
      "source": [
        "# 4. implement sampling techniques like random sampling and stratified sampling.\n",
        "\n",
        "import random\n",
        "import pandas as pd\n",
        "\n",
        "# Sample dataset\n",
        "data = {\"ID\": range(1, 21), \"Gender\": random.choices([\"Male\", \"Female\"], k=20)}\n",
        "df = pd.DataFrame(data)\n",
        "\n",
        "# Random Sampling (5 random samples)\n",
        "random_sample = df.sample(n=5, random_state=42)\n",
        "\n",
        "# Stratified Sampling (50% from each gender)\n",
        "stratified_sample = df.groupby(\"Gender\", group_keys=False).apply(lambda x: x.sample(frac=0.5, random_state=42))\n",
        "\n",
        "# Print results\n",
        "print(\"Random Sample:\\n\", random_sample)\n",
        "print(\"\\nStratified Sample:\\n\", stratified_sample)\n"
      ],
      "metadata": {
        "colab": {
          "base_uri": "https://localhost:8080/"
        },
        "id": "is1HOX3rH7iw",
        "outputId": "78ea681d-c18a-47b0-bb86-44f9cf1d8b42"
      },
      "execution_count": 4,
      "outputs": [
        {
          "output_type": "stream",
          "name": "stdout",
          "text": [
            "Random Sample:\n",
            "     ID  Gender\n",
            "0    1  Female\n",
            "17  18  Female\n",
            "15  16  Female\n",
            "1    2    Male\n",
            "8    9    Male\n",
            "\n",
            "Stratified Sample:\n",
            "     ID  Gender\n",
            "17  18  Female\n",
            "2    3  Female\n",
            "10  11  Female\n",
            "0    1  Female\n",
            "15  16  Female\n",
            "16  17    Male\n",
            "3    4    Male\n",
            "11  12    Male\n",
            "1    2    Male\n",
            "13  14    Male\n"
          ]
        },
        {
          "output_type": "stream",
          "name": "stderr",
          "text": [
            "<ipython-input-4-60eb8a7651ab>:14: DeprecationWarning: DataFrameGroupBy.apply operated on the grouping columns. This behavior is deprecated, and in a future version of pandas the grouping columns will be excluded from the operation. Either pass `include_groups=False` to exclude the groupings or explicitly select the grouping columns after groupby to silence this warning.\n",
            "  stratified_sample = df.groupby(\"Gender\", group_keys=False).apply(lambda x: x.sample(frac=0.5, random_state=42))\n"
          ]
        }
      ]
    },
    {
      "cell_type": "code",
      "source": [
        "# 5. Write a Python function to calculate the range of a dataset.\n",
        "\n",
        "def calculate_range(data):\n",
        "    \"\"\"Returns the range of a dataset (max - min).\"\"\"\n",
        "    if not data:\n",
        "        return None  # Handle empty dataset\n",
        "    return max(data) - min(data)\n",
        "\n",
        "# Example usage\n",
        "dataset = [5, 12, 18, 25, 30]\n",
        "print(\"Range:\", calculate_range(dataset))\n"
      ],
      "metadata": {
        "colab": {
          "base_uri": "https://localhost:8080/"
        },
        "id": "RsfzuU0nIO8L",
        "outputId": "01951033-cf03-4ae6-a696-dc125edba3ee"
      },
      "execution_count": 5,
      "outputs": [
        {
          "output_type": "stream",
          "name": "stdout",
          "text": [
            "Range: 25\n"
          ]
        }
      ]
    },
    {
      "cell_type": "code",
      "source": [
        "# 6.  Create a dataset and plot its histogram to visualize skewness.\n",
        "\n",
        "import numpy as np\n",
        "import matplotlib.pyplot as plt\n",
        "import seaborn as sns\n",
        "from scipy.stats import skew\n",
        "\n",
        "# Generate a right-skewed dataset (positively skewed)\n",
        "data = np.random.exponential(scale=2, size=1000)\n",
        "\n",
        "# Calculate skewness\n",
        "skewness_value = skew(data)\n",
        "\n",
        "# Plot histogram\n",
        "plt.figure(figsize=(8, 5))\n",
        "sns.histplot(data, bins=30, kde=True, color='blue')\n",
        "plt.axvline(np.mean(data), color='red', linestyle='dashed', label=\"Mean\")\n",
        "plt.axvline(np.median(data), color='green', linestyle='dashed', label=\"Median\")\n",
        "plt.title(f\"Histogram (Skewness: {skewness_value:.2f})\")\n",
        "plt.xlabel(\"Value\")\n",
        "plt.ylabel(\"Frequency\")\n",
        "plt.legend()\n",
        "plt.show()\n"
      ],
      "metadata": {
        "colab": {
          "base_uri": "https://localhost:8080/",
          "height": 487
        },
        "id": "eT3ikrgYIYWR",
        "outputId": "1f93a64c-2862-4ce6-93df-f37ce7f7828c"
      },
      "execution_count": 6,
      "outputs": [
        {
          "output_type": "display_data",
          "data": {
            "text/plain": [
              "<Figure size 800x500 with 1 Axes>"
            ],
            "image/png": "[encoded data removed]"
          },
          "metadata": {}
        }
      ]
    },
    {
      "cell_type": "code",
      "source": [
        "#7. Calculate skewness and kurtosis of a dataset using Python libraries\n",
        "\n",
        "import numpy as np\n",
        "import scipy.stats as stats\n",
        "\n",
        "# Sample dataset\n",
        "data = np.random.normal(loc=50, scale=15, size=1000)  # Normal distribution\n",
        "\n",
        "# Calculate skewness and kurtosis\n",
        "skewness = stats.skew(data)\n",
        "kurtosis = stats.kurtosis(data)\n",
        "\n",
        "# Print results\n",
        "print(f\"Skewness: {skewness:.2f}\")\n",
        "print(f\"Kurtosis: {kurtosis:.2f}\")\n"
      ],
      "metadata": {
        "colab": {
          "base_uri": "https://localhost:8080/"
        },
        "id": "zDObziHGIlqM",
        "outputId": "c8721df4-3500-46e2-d8b2-6bcbafc6203e"
      },
      "execution_count": 7,
      "outputs": [
        {
          "output_type": "stream",
          "name": "stdout",
          "text": [
            "Skewness: 0.10\n",
            "Kurtosis: -0.00\n"
          ]
        }
      ]
    },
    {
      "cell_type": "code",
      "source": [
        "# 8. Generate a dataset and demonstrate positive and negative skewness\n",
        "\n",
        "import numpy as np\n",
        "import matplotlib.pyplot as plt\n",
        "import seaborn as sns\n",
        "from scipy.stats import skew\n",
        "\n",
        "# Generate datasets\n",
        "positively_skewed = np.random.exponential(scale=2, size=1000)  # Right-skewed\n",
        "negatively_skewed = np.random.normal(loc=50, scale=15, size=1000) ** 2  # Left-skewed\n",
        "\n",
        "# Calculate skewness\n",
        "pos_skewness = skew(positively_skewed)\n",
        "neg_skewness = skew(negatively_skewed)\n",
        "\n",
        "# Plot histograms\n",
        "fig, axes = plt.subplots(1, 2, figsize=(12, 5))\n",
        "\n",
        "# Positive Skewness\n",
        "sns.histplot(positively_skewed, bins=30, kde=True, ax=axes[0], color='blue')\n",
        "axes[0].set_title(f'Positive Skewness: {pos_skewness:.2f}')\n",
        "axes[0].axvline(np.mean(positively_skewed), color='red', linestyle='dashed', label=\"Mean\")\n",
        "axes[0].axvline(np.median(positively_skewed), color='green', linestyle='dashed', label=\"Median\")\n",
        "axes[0].legend()\n",
        "\n",
        "# Negative Skewness\n",
        "sns.histplot(negatively_skewed, bins=30, kde=True, ax=axes[1], color='purple')\n",
        "axes[1].set_title(f'Negative Skewness: {neg_skewness:.2f}')\n",
        "axes[1].axvline(np.mean(negatively_skewed), color='red', linestyle='dashed', label=\"Mean\")\n",
        "axes[1].axvline(np.median(negatively_skewed), color='green', linestyle='dashed', label=\"Median\")\n",
        "axes[1].legend()\n",
        "\n",
        "plt.tight_layout()\n",
        "plt.show()\n"
      ],
      "metadata": {
        "colab": {
          "base_uri": "https://localhost:8080/",
          "height": 507
        },
        "id": "9G-SuBCYIyIO",
        "outputId": "7f24842f-ec63-4e0d-da00-fd1e6c912814"
      },
      "execution_count": 8,
      "outputs": [
        {
          "output_type": "display_data",
          "data": {
            "text/plain": [
              "<Figure size 1200x500 with 2 Axes>"
            ],
            "image/png": "[encoded data removed]"
          },
          "metadata": {}
        }
      ]
    },
    {
      "cell_type": "code",
      "source": [
        "#9. Write a Python script to calculate covariance between two datasets\n",
        "\n",
        "import numpy as np\n",
        "\n",
        "# Sample datasets\n",
        "x = [10, 20, 30, 40, 50]\n",
        "y = [5, 15, 25, 35, 45]\n",
        "\n",
        "# Calculate covariance\n",
        "cov_matrix = np.cov(x, y, bias=False)  # Unbiased covariance\n",
        "covariance = cov_matrix[0, 1]  # Extract covariance value\n",
        "\n",
        "# Print result\n",
        "print(f\"Covariance between X and Y: {covariance:.2f}\")\n"
      ],
      "metadata": {
        "colab": {
          "base_uri": "https://localhost:8080/"
        },
        "id": "9giiGD_8I7H2",
        "outputId": "1096cb9b-5992-4135-eaea-a517496d9a78"
      },
      "execution_count": 10,
      "outputs": [
        {
          "output_type": "stream",
          "name": "stdout",
          "text": [
            "Covariance between X and Y: 250.00\n"
          ]
        }
      ]
    },
    {
      "cell_type": "code",
      "source": [
        "#10. Write a Python script to calculate the correlation coefficient between two datasets.\n",
        "\n",
        "import numpy as np\n",
        "\n",
        "# Sample datasets\n",
        "x = [10, 20, 30, 40, 50]\n",
        "y = [5, 15, 25, 35, 45]\n",
        "\n",
        "# Calculate correlation coefficient\n",
        "correlation = np.corrcoef(x, y)[0, 1]\n",
        "\n",
        "# Print result\n",
        "print(f\"Correlation Coefficient between X and Y: {correlation:.2f}\")\n"
      ],
      "metadata": {
        "colab": {
          "base_uri": "https://localhost:8080/"
        },
        "id": "a3Ql7_7dJCoS",
        "outputId": "433951d4-e48d-4bc4-f15e-5784a98982c1"
      },
      "execution_count": 11,
      "outputs": [
        {
          "output_type": "stream",
          "name": "stdout",
          "text": [
            "Correlation Coefficient between X and Y: 1.00\n"
          ]
        }
      ]
    },
    {
      "cell_type": "code",
      "source": [
        "# 11. Create a scatter plot to visualize the relationship between two variables\n",
        "\n",
        "import numpy as np\n",
        "import matplotlib.pyplot as plt\n",
        "import seaborn as sns\n",
        "\n",
        "# Sample datasets\n",
        "x = [10, 20, 30, 40, 50, 60, 70, 80, 90, 100]\n",
        "y = [5, 15, 25, 35, 50, 55, 65, 75, 85, 95]\n",
        "\n",
        "# Create scatter plot\n",
        "plt.figure(figsize=(8, 5))\n",
        "sns.scatterplot(x=x, y=y, color=\"blue\", marker=\"o\")\n",
        "\n",
        "# Add trendline\n",
        "sns.regplot(x=x, y=y, scatter=False, color=\"red\")\n",
        "\n",
        "# Labels and title\n",
        "plt.xlabel(\"Variable X\")\n",
        "plt.ylabel(\"Variable Y\")\n",
        "plt.title(\"Scatter Plot of X vs. Y\")\n",
        "\n",
        "# Show plot\n",
        "plt.show()\n"
      ],
      "metadata": {
        "colab": {
          "base_uri": "https://localhost:8080/",
          "height": 487
        },
        "id": "3TmsKzCJJJgK",
        "outputId": "bbfa871e-70df-4b79-9ef3-27b10c8cf588"
      },
      "execution_count": 12,
      "outputs": [
        {
          "output_type": "display_data",
          "data": {
            "text/plain": [
              "<Figure size 800x500 with 1 Axes>"
            ],
            "image/png": "[encoded data removed]"
          },
          "metadata": {}
        }
      ]
    },
    {
      "cell_type": "code",
      "source": [
        "# 12.  Implement and compare simple random sampling and systematic sampling\n",
        "\n",
        "import numpy as np\n",
        "import pandas as pd\n",
        "\n",
        "# Create a sample dataset\n",
        "data = {\"ID\": range(1, 101), \"Value\": np.random.randint(1, 100, 100)}\n",
        "df = pd.DataFrame(data)\n",
        "\n",
        "# 1. Simple Random Sampling (Select 10 random samples)\n",
        "random_sample = df.sample(n=10, random_state=42)\n",
        "\n",
        "# 2. Systematic Sampling (Every k-th element, k = population/sample_size)\n",
        "k = len(df) // 10  # Select 10 samples\n",
        "systematic_sample = df.iloc[::k]\n",
        "\n",
        "# Print results\n",
        "print(\"Simple Random Sampling:\\n\", random_sample)\n",
        "print(\"\\nSystematic Sampling:\\n\", systematic_sample)\n"
      ],
      "metadata": {
        "colab": {
          "base_uri": "https://localhost:8080/"
        },
        "id": "4-Td4p3WJSw-",
        "outputId": "5f10a187-cd3b-47f5-eb53-333e80523ca3"
      },
      "execution_count": 13,
      "outputs": [
        {
          "output_type": "stream",
          "name": "stdout",
          "text": [
            "Simple Random Sampling:\n",
            "     ID  Value\n",
            "83  84     62\n",
            "53  54     23\n",
            "70  71     62\n",
            "45  46     62\n",
            "44  45     52\n",
            "39  40     92\n",
            "22  23      2\n",
            "80  81     10\n",
            "10  11     36\n",
            "0    1     31\n",
            "\n",
            "Systematic Sampling:\n",
            "     ID  Value\n",
            "0    1     31\n",
            "10  11     36\n",
            "20  21     13\n",
            "30  31     53\n",
            "40  41     18\n",
            "50  51     85\n",
            "60  61     75\n",
            "70  71     62\n",
            "80  81     10\n",
            "90  91     20\n"
          ]
        }
      ]
    },
    {
      "cell_type": "code",
      "source": [
        "#13. Calculate the mean, median, and mode of grouped data.\n",
        "\n",
        "import numpy as np\n",
        "import pandas as pd\n",
        "from scipy import stats\n",
        "\n",
        "# Create grouped data (Class Intervals and Frequencies)\n",
        "data = {\n",
        "    \"Class Interval\": [\"0-10\", \"10-20\", \"20-30\", \"30-40\", \"40-50\"],\n",
        "    \"Frequency\": [5, 8, 15, 10, 7]\n",
        "}\n",
        "\n",
        "df = pd.DataFrame(data)\n",
        "\n",
        "# Calculate midpoints\n",
        "df[\"Midpoint\"] = df[\"Class Interval\"].apply(lambda x: (int(x.split(\"-\")[0]) + int(x.split(\"-\")[1])) / 2)\n",
        "\n",
        "# Calculate Mean\n",
        "mean = sum(df[\"Midpoint\"] * df[\"Frequency\"]) / sum(df[\"Frequency\"])\n",
        "\n",
        "# Calculate Median (Using cumulative frequency)\n",
        "df[\"Cumulative Frequency\"] = df[\"Frequency\"].cumsum()\n",
        "n = sum(df[\"Frequency\"])\n",
        "median_class = df[df[\"Cumulative Frequency\"] >= n/2].iloc[0]\n",
        "L = int(median_class[\"Class Interval\"].split(\"-\")[0])  # Lower boundary\n",
        "F = df[df[\"Class Interval\"] == median_class[\"Class Interval\"]][\"Frequency\"].values[0]\n",
        "CF = df[df[\"Class Interval\"] == median_class[\"Class Interval\"]].iloc[0][\"Cumulative Frequency\"] - F\n",
        "h = 10  # Class width\n",
        "\n",
        "median = L + ((n/2 - CF) / F) * h\n",
        "\n",
        "# Calculate Mode (Using the mode formula)\n",
        "mode_class = df.loc[df[\"Frequency\"].idxmax()]  # Class with highest frequency\n",
        "L = int(mode_class[\"Class Interval\"].split(\"-\")[0])\n",
        "f1 = mode_class[\"Frequency\"]\n",
        "f0 = df.iloc[df[\"Frequency\"].idxmax() - 1][\"Frequency\"] if df[\"Frequency\"].idxmax() > 0 else 0\n",
        "f2 = df.iloc[df[\"Frequency\"].idxmax() + 1][\"Frequency\"] if df[\"Frequency\"].idxmax() < len(df) - 1 else 0\n",
        "\n",
        "mode = L + ((f1 - f0) / ((2 * f1) - f0 - f2)) * h\n",
        "\n",
        "# Print results\n",
        "print(f\"Mean: {mean:.2f}\")\n",
        "print(f\"Median: {median:.2f}\")\n",
        "print(f\"Mode: {mode:.2f}\")\n"
      ],
      "metadata": {
        "colab": {
          "base_uri": "https://localhost:8080/"
        },
        "id": "1zN1Wk3iJc72",
        "outputId": "46f35901-c946-4696-ec5d-fc8db848b47c"
      },
      "execution_count": 14,
      "outputs": [
        {
          "output_type": "stream",
          "name": "stdout",
          "text": [
            "Mean: 26.33\n",
            "Median: 26.33\n",
            "Mode: 25.83\n"
          ]
        }
      ]
    },
    {
      "cell_type": "code",
      "source": [
        "# 14. Simulate data using Python and calculate its central tendency and dispersion\n",
        "\n",
        "import numpy as np\n",
        "import pandas as pd\n",
        "import matplotlib.pyplot as plt\n",
        "from scipy import stats\n",
        "\n",
        "# Simulate a dataset (normally distributed data)\n",
        "np.random.seed(42)\n",
        "data = np.random.randint(10, 100, 50)  # 50 random values between 10 and 100\n",
        "\n",
        "# Convert to DataFrame\n",
        "df = pd.DataFrame(data, columns=[\"Values\"])\n",
        "\n",
        "# Calculate Measures of Central Tendency\n",
        "mean = np.mean(df[\"Values\"])\n",
        "median = np.median(df[\"Values\"])\n",
        "mode = stats.mode(df[\"Values\"])[0][0]\n",
        "\n",
        "# Calculate Measures of Dispersion\n",
        "variance = np.var(df[\"Values\"], ddof=1)  # Sample variance\n",
        "std_dev = np.std(df[\"Values\"], ddof=1)  # Sample standard deviation\n",
        "data_range = np.max(df[\"Values\"]) - np.min(df[\"Values\"])\n",
        "\n",
        "# Print Results\n",
        "print(f\"Mean: {mean:.2f}\")\n",
        "print(f\"Median: {median:.2f}\")\n",
        "print(f\"Mode: {mode}\")\n",
        "print(f\"Variance: {variance:.2f}\")\n",
        "print(f\"Standard Deviation: {std_dev:.2f}\")\n",
        "print(f\"Range: {data_range}\")\n",
        "\n",
        "# Plot Histogram\n",
        "plt.figure(figsize=(8,5))\n",
        "plt.hist(df[\"Values\"], bins=10, color=\"skyblue\", edgecolor=\"black\", alpha=0.7)\n",
        "plt.axvline(mean, color=\"red\", linestyle=\"dashed\", linewidth=2, label=f\"Mean: {mean:.2f}\")\n",
        "plt.axvline(median, color=\"green\", linestyle=\"dashed\", linewidth=2, label=f\"Median: {median:.2f}\")\n",
        "plt.axvline(mode, color=\"blue\", linestyle=\"dashed\", linewidth=2, label=f\"Mode: {mode}\")\n",
        "plt.xlabel(\"Values\")\n",
        "plt.ylabel(\"Frequency\")\n",
        "plt.title(\"Histogram of Simulated Data\")\n",
        "plt.legend()\n",
        "plt.show()\n",
        "\n",
        "\n",
        "\n"
      ],
      "metadata": {
        "id": "8pPrcMbzJxXu"
      },
      "execution_count": 17,
      "outputs": []
    },
    {
      "cell_type": "code",
      "source": [
        "# 15.  Use NumPy or pandas to summarize a dataset’s descriptive statistics.\n",
        "\n",
        "import numpy as np\n",
        "import pandas as pd\n",
        "\n",
        "# Simulate a dataset with 100 random numbers (normally distributed)\n",
        "np.random.seed(42)\n",
        "data = np.random.randint(10, 100, 100)  # 100 values between 10 and 100\n",
        "\n",
        "# Convert to DataFrame\n",
        "df = pd.DataFrame(data, columns=[\"Values\"])\n",
        "\n",
        "# Using pandas describe() to get descriptive statistics\n",
        "summary = df.describe()\n",
        "\n",
        "# Additional statistics using NumPy\n",
        "variance = np.var(df[\"Values\"], ddof=1)  # Sample variance\n",
        "skewness = df[\"Values\"].skew()\n",
        "kurtosis = df[\"Values\"].kurt()\n",
        "\n",
        "# Print results\n",
        "print(summary)\n",
        "print(f\"\\nVariance: {variance:.2f}\")\n",
        "print(f\"Skewness: {skewness:.2f}\")\n",
        "print(f\"Kurtosis: {kurtosis:.2f}\")\n"
      ],
      "metadata": {
        "colab": {
          "base_uri": "https://localhost:8080/"
        },
        "id": "zw3-uXzLJ-iE",
        "outputId": "2219c479-21fe-4e6d-c135-0357ae5255f2"
      },
      "execution_count": 18,
      "outputs": [
        {
          "output_type": "stream",
          "name": "stdout",
          "text": [
            "           Values\n",
            "count  100.000000\n",
            "mean    56.680000\n",
            "std     27.281503\n",
            "min     11.000000\n",
            "25%     31.000000\n",
            "50%     60.500000\n",
            "75%     80.250000\n",
            "max     99.000000\n",
            "\n",
            "Variance: 744.28\n",
            "Skewness: -0.17\n",
            "Kurtosis: -1.15\n"
          ]
        }
      ]
    },
    {
      "cell_type": "code",
      "source": [
        "#16. Plot a boxplot to understand the spread and identify outliers.\n",
        "\n",
        "import numpy as np\n",
        "import pandas as pd\n",
        "import matplotlib.pyplot as plt\n",
        "import seaborn as sns\n",
        "\n",
        "# Generate a dataset with 100 random values (including some outliers)\n",
        "np.random.seed(42)\n",
        "data = np.append(np.random.randint(10, 100, 95), [5, 120, 130, 140, 150])  # Adding outliers\n",
        "\n",
        "# Convert to DataFrame\n",
        "df = pd.DataFrame(data, columns=[\"Values\"])\n",
        "\n",
        "# Create a Boxplot\n",
        "plt.figure(figsize=(8, 5))\n",
        "sns.boxplot(y=df[\"Values\"], color=\"skyblue\", width=0.3)\n",
        "\n",
        "# Customize plot\n",
        "plt.title(\"Boxplot of Dataset (Identifying Outliers)\")\n",
        "plt.ylabel(\"Values\")\n",
        "\n",
        "# Show plot\n",
        "plt.show()\n"
      ],
      "metadata": {
        "colab": {
          "base_uri": "https://localhost:8080/",
          "height": 449
        },
        "id": "WzKrIcCdKQxb",
        "outputId": "9fc869e7-0c87-49af-869d-615c525ff683"
      },
      "execution_count": 19,
      "outputs": [
        {
          "output_type": "display_data",
          "data": {
            "text/plain": [
              "<Figure size 800x500 with 1 Axes>"
            ],
            "image/png": "[encoded data removed]"
          },
          "metadata": {}
        }
      ]
    },
    {
      "cell_type": "code",
      "source": [
        "# 17. Calculate the interquartile range (IQR) of a dataset.\n",
        "\n",
        "import numpy as np\n",
        "import pandas as pd\n",
        "\n",
        "# Generate a dataset with 100 random values\n",
        "np.random.seed(42)\n",
        "data = np.random.randint(10, 100, 100)  # 100 values between 10 and 100\n",
        "\n",
        "# Convert to DataFrame\n",
        "df = pd.DataFrame(data, columns=[\"Values\"])\n",
        "\n",
        "# Calculate Q1 (25th percentile) and Q3 (75th percentile)\n",
        "Q1 = np.percentile(df[\"Values\"], 25)\n",
        "Q3 = np.percentile(df[\"Values\"], 75)\n",
        "\n",
        "# Calculate IQR\n",
        "IQR = Q3 - Q1\n",
        "\n",
        "# Print results\n",
        "print(f\"Q1 (25th percentile): {Q1}\")\n",
        "print(f\"Q3 (75th percentile): {Q3}\")\n",
        "print(f\"Interquartile Range (IQR): {IQR}\")\n"
      ],
      "metadata": {
        "colab": {
          "base_uri": "https://localhost:8080/"
        },
        "id": "VG1tmKBjKZ9G",
        "outputId": "f8b5c652-a9c0-4f95-bbe9-06a4f07412d3"
      },
      "execution_count": 20,
      "outputs": [
        {
          "output_type": "stream",
          "name": "stdout",
          "text": [
            "Q1 (25th percentile): 31.0\n",
            "Q3 (75th percentile): 80.25\n",
            "Interquartile Range (IQR): 49.25\n"
          ]
        }
      ]
    },
    {
      "cell_type": "code",
      "source": [
        "# 18. Implement Z-score normalization and explain its significance.\n",
        "\n",
        "import numpy as np\n",
        "import pandas as pd\n",
        "import scipy.stats as stats\n",
        "\n",
        "# Generate a dataset with 100 random values\n",
        "np.random.seed(42)\n",
        "data = np.random.randint(10, 100, 100)  # 100 values between 10 and 100\n",
        "\n",
        "# Convert to DataFrame\n",
        "df = pd.DataFrame(data, columns=[\"Values\"])\n",
        "\n",
        "# Compute Z-score normalization\n",
        "df[\"Z-Score\"] = stats.zscore(df[\"Values\"])\n",
        "\n",
        "# Print first few rows\n",
        "print(df.head())\n"
      ],
      "metadata": {
        "colab": {
          "base_uri": "https://localhost:8080/"
        },
        "id": "krsaA7abKi5Q",
        "outputId": "7db56ce0-41c1-4c72-f02b-312606556c80"
      },
      "execution_count": 21,
      "outputs": [
        {
          "output_type": "stream",
          "name": "stdout",
          "text": [
            "   Values   Z-Score\n",
            "0      61  0.159147\n",
            "1      24 -1.203916\n",
            "2      81  0.895937\n",
            "3      70  0.490703\n",
            "4      30 -0.982879\n"
          ]
        }
      ]
    },
    {
      "cell_type": "code",
      "source": [
        "# 19.  Compare two datasets using their standard deviations.\n",
        "\n",
        "import numpy as np\n",
        "import pandas as pd\n",
        "\n",
        "# Generate two datasets with different distributions\n",
        "np.random.seed(42)\n",
        "data1 = np.random.randint(10, 100, 50)  # Dataset 1: Random values between 10 and 100\n",
        "data2 = np.random.randint(30, 70, 50)   # Dataset 2: Random values between 30 and 70\n",
        "\n",
        "# Convert to DataFrame\n",
        "df = pd.DataFrame({\"Dataset 1\": data1, \"Dataset 2\": data2})\n",
        "\n",
        "# Calculate Standard Deviations\n",
        "std_dev1 = np.std(df[\"Dataset 1\"], ddof=1)  # Sample standard deviation\n",
        "std_dev2 = np.std(df[\"Dataset 2\"], ddof=1)\n",
        "\n",
        "# Print results\n",
        "print(f\"Standard Deviation of Dataset 1: {std_dev1:.2f}\")\n",
        "print(f\"Standard Deviation of Dataset 2: {std_dev2:.2f}\")\n",
        "\n",
        "# Interpretation\n",
        "if std_dev1 > std_dev2:\n",
        "    print(\"Dataset 1 has more variability (greater spread).\")\n",
        "elif std_dev1 < std_dev2:\n",
        "    print(\"Dataset 2 has more variability (greater spread).\")\n",
        "else:\n",
        "    print(\"Both datasets have similar variability.\")\n"
      ],
      "metadata": {
        "colab": {
          "base_uri": "https://localhost:8080/"
        },
        "id": "GvnwjYWrKw-i",
        "outputId": "096f55ac-edf0-41c1-d108-47e850c3a8e9"
      },
      "execution_count": 22,
      "outputs": [
        {
          "output_type": "stream",
          "name": "stdout",
          "text": [
            "Standard Deviation of Dataset 1: 26.98\n",
            "Standard Deviation of Dataset 2: 11.09\n",
            "Dataset 1 has more variability (greater spread).\n"
          ]
        }
      ]
    },
    {
      "cell_type": "code",
      "source": [
        "# 20. Write a Python program to visualize covariance using a heatmap.\n",
        "\n",
        "import numpy as np\n",
        "import pandas as pd\n",
        "import seaborn as sns\n",
        "import matplotlib.pyplot as plt\n",
        "\n",
        "# Generate two correlated datasets\n",
        "np.random.seed(42)\n",
        "data1 = np.random.randint(10, 100, 50)  # Random values between 10 and 100\n",
        "data2 = data1 + np.random.randint(-10, 10, 50)  # Adding slight variation to create correlation\n",
        "\n",
        "# Convert to DataFrame\n",
        "df = pd.DataFrame({\"Dataset 1\": data1, \"Dataset 2\": data2})\n",
        "\n",
        "# Compute Covariance Matrix\n",
        "cov_matrix = df.cov()\n",
        "\n",
        "# Plot Heatmap\n",
        "plt.figure(figsize=(6, 5))\n",
        "sns.heatmap(cov_matrix, annot=True, cmap=\"coolwarm\", fmt=\".2f\", linewidths=1)\n",
        "\n",
        "# Customize Plot\n",
        "plt.title(\"Covariance Heatmap\")\n",
        "plt.show()\n"
      ],
      "metadata": {
        "colab": {
          "base_uri": "https://localhost:8080/",
          "height": 468
        },
        "id": "zJxU0-cUK9oB",
        "outputId": "83a38419-5504-4de0-9b89-c447e3450bd3"
      },
      "execution_count": 23,
      "outputs": [
        {
          "output_type": "display_data",
          "data": {
            "text/plain": [
              "<Figure size 600x500 with 2 Axes>"
            ],
            "image/png": "[encoded data removed]"
          },
          "metadata": {}
        }
      ]
    },
    {
      "cell_type": "code",
      "source": [
        "#21. Use seaborn to create a correlation matrix for a dataset.\n",
        "\n",
        "import numpy as np\n",
        "import pandas as pd\n",
        "import seaborn as sns\n",
        "import matplotlib.pyplot as plt\n",
        "\n",
        "# Generate a dataset with 3 correlated variables\n",
        "np.random.seed(42)\n",
        "data = {\n",
        "    \"Feature 1\": np.random.randint(10, 100, 50),\n",
        "    \"Feature 2\": np.random.randint(20, 90, 50),\n",
        "    \"Feature 3\": np.random.randint(30, 80, 50)\n",
        "}\n",
        "\n",
        "# Convert to DataFrame\n",
        "df = pd.DataFrame(data)\n",
        "\n",
        "# Compute Correlation Matrix\n",
        "corr_matrix = df.corr()\n",
        "\n",
        "# Plot Heatmap\n",
        "plt.figure(figsize=(6, 5))\n",
        "sns.heatmap(corr_matrix, annot=True, cmap=\"coolwarm\", fmt=\".2f\", linewidths=1)\n",
        "\n",
        "# Customize Plot\n",
        "plt.title(\"Correlation Matrix Heatmap\")\n",
        "plt.show()\n"
      ],
      "metadata": {
        "colab": {
          "base_uri": "https://localhost:8080/",
          "height": 468
        },
        "id": "l24fb1XtLGgy",
        "outputId": "c19e7a18-046c-4e61-cc42-483f160c7cf6"
      },
      "execution_count": 24,
      "outputs": [
        {
          "output_type": "display_data",
          "data": {
            "text/plain": [
              "<Figure size 600x500 with 2 Axes>"
            ],
            "image/png": "[encoded data removed]"
          },
          "metadata": {}
        }
      ]
    },
    {
      "cell_type": "code",
      "source": [
        "#22. Generate a dataset and implement both variance and standard deviation computations.\n",
        "\n",
        "import numpy as np\n",
        "import pandas as pd\n",
        "\n",
        "# Generate a dataset with 50 random values\n",
        "np.random.seed(42)\n",
        "data = np.random.randint(10, 100, 50)  # 50 values between 10 and 100\n",
        "\n",
        "# Convert to DataFrame\n",
        "df = pd.DataFrame(data, columns=[\"Values\"])\n",
        "\n",
        "# Compute Variance and Standard Deviation\n",
        "variance = np.var(df[\"Values\"], ddof=1)  # Sample variance (ddof=1)\n",
        "std_dev = np.std(df[\"Values\"], ddof=1)   # Sample standard deviation (ddof=1)\n",
        "\n",
        "# Print Results\n",
        "print(f\"Variance: {variance:.2f}\")\n",
        "print(f\"Standard Deviation: {std_dev:.2f}\")\n"
      ],
      "metadata": {
        "colab": {
          "base_uri": "https://localhost:8080/"
        },
        "id": "leKjnUP9LOa6",
        "outputId": "305e4fc1-6b9e-483b-9d5c-4b38bc4b1595"
      },
      "execution_count": 25,
      "outputs": [
        {
          "output_type": "stream",
          "name": "stdout",
          "text": [
            "Variance: 727.79\n",
            "Standard Deviation: 26.98\n"
          ]
        }
      ]
    },
    {
      "cell_type": "code",
      "source": [
        "#23. Visualize skewness and kurtosis using Python libraries like matplotlib or seaborn\n",
        "\n",
        "import numpy as np\n",
        "import pandas as pd\n",
        "import seaborn as sns\n",
        "import matplotlib.pyplot as plt\n",
        "from scipy.stats import skew, kurtosis\n",
        "\n",
        "# Generate a dataset with some skewness and kurtosis\n",
        "np.random.seed(42)\n",
        "data = np.random.gamma(shape=2, scale=2, size=500)  # Skewed distribution\n",
        "\n",
        "# Convert to DataFrame\n",
        "df = pd.DataFrame(data, columns=[\"Values\"])\n",
        "\n",
        "# Compute Skewness & Kurtosis\n",
        "skewness = skew(df[\"Values\"])\n",
        "kurt = kurtosis(df[\"Values\"])\n",
        "\n",
        "# Plot Histogram with KDE (Density Curve)\n",
        "plt.figure(figsize=(8, 5))\n",
        "sns.histplot(df[\"Values\"], bins=30, kde=True, color=\"skyblue\")\n",
        "\n",
        "# Add Title and Labels\n",
        "plt.title(f\"Histogram with Skewness: {skewness:.2f}, Kurtosis: {kurt:.2f}\")\n",
        "plt.xlabel(\"Values\")\n",
        "plt.ylabel(\"Frequency\")\n",
        "\n",
        "# Show Plot\n",
        "plt.show()\n"
      ],
      "metadata": {
        "colab": {
          "base_uri": "https://localhost:8080/",
          "height": 487
        },
        "id": "Bw1bTCSfLYAq",
        "outputId": "6a1ee872-b28e-49c4-c801-6cfe29e72912"
      },
      "execution_count": 26,
      "outputs": [
        {
          "output_type": "display_data",
          "data": {
            "text/plain": [
              "<Figure size 800x500 with 1 Axes>"
            ],
            "image/png": "[encoded data removed]"
          },
          "metadata": {}
        }
      ]
    },
    {
      "cell_type": "code",
      "source": [
        "#24.  Implement the Pearson and Spearman correlation coefficients for a dataset.\n",
        "\n",
        "import numpy as np\n",
        "import pandas as pd\n",
        "from scipy.stats import pearsonr, spearmanr\n",
        "\n",
        "# Generate a dataset with two correlated variables\n",
        "np.random.seed(42)\n",
        "x = np.random.randint(10, 100, 50)\n",
        "y = x + np.random.randint(-10, 10, 50)  # Adding noise to introduce correlation\n",
        "\n",
        "# Convert to DataFrame\n",
        "df = pd.DataFrame({\"X\": x, \"Y\": y})\n",
        "\n",
        "# Compute Pearson & Spearman Correlation\n",
        "pearson_corr, _ = pearsonr(df[\"X\"], df[\"Y\"])\n",
        "spearman_corr, _ = spearmanr(df[\"X\"], df[\"Y\"])\n",
        "\n",
        "# Print Results\n",
        "print(f\"Pearson Correlation Coefficient: {pearson_corr:.2f}\")\n",
        "print(f\"Spearman Correlation Coefficient: {spearman_corr:.2f}\")\n"
      ],
      "metadata": {
        "colab": {
          "base_uri": "https://localhost:8080/"
        },
        "id": "kTr3sPCDL1Ab",
        "outputId": "16adbad1-0948-4552-d306-01b6b8797685"
      },
      "execution_count": 27,
      "outputs": [
        {
          "output_type": "stream",
          "name": "stdout",
          "text": [
            "Pearson Correlation Coefficient: 0.98\n",
            "Spearman Correlation Coefficient: 0.98\n"
          ]
        }
      ]
    }
  ]
}